{
  "nbformat": 4,
  "nbformat_minor": 0,
  "metadata": {
    "colab": {
      "provenance": [],
      "authorship_tag": "ABX9TyPhXK5absEKpY5aimgp2Z5f",
      "include_colab_link": true
    },
    "kernelspec": {
      "name": "python3",
      "display_name": "Python 3"
    },
    "language_info": {
      "name": "python"
    }
  },
  "cells": [
    {
      "cell_type": "markdown",
      "metadata": {
        "id": "view-in-github",
        "colab_type": "text"
      },
      "source": [
        "<a href=\"https://colab.research.google.com/github/Juricasfi/IA/blob/main/Prediccion_precio_casas_Dropout.ipynb\" target=\"_parent\"><img src=\"https://colab.research.google.com/assets/colab-badge.svg\" alt=\"Open In Colab\"/></a>"
      ]
    },
    {
      "cell_type": "code",
      "execution_count": null,
      "metadata": {
        "colab": {
          "base_uri": "https://localhost:8080/"
        },
        "id": "bqaF3qLPbtQ1",
        "outputId": "8c07301e-0e06-4d8f-b4f4-bf32b58fe03d"
      },
      "outputs": [
        {
          "output_type": "stream",
          "name": "stdout",
          "text": [
            "Downloading data from https://storage.googleapis.com/tensorflow/tf-keras-datasets/boston_housing.npz\n",
            "57026/57026 [==============================] - 0s 0us/step\n"
          ]
        }
      ],
      "source": [
        "from tensorflow.keras.datasets import boston_housing\n",
        "\n",
        "(train_data, train_target),(test_data, test_targets) = (boston_housing.load_data())"
      ]
    },
    {
      "cell_type": "code",
      "source": [
        "## debido a que los datos tienen rangos diferentes se realiza una normalización de los datos,\n",
        "## a los datos se les resta la media y se divide en la desviación estandar\n",
        "\n",
        "import numpy as np\n",
        "from tensorflow import keras\n",
        "from tensorflow.keras import layers\n",
        "\n",
        "mean = train_data.mean(axis = 0)\n",
        "train_data -= mean\n",
        "std = train_data.std(axis = 0)\n",
        "train_data /= std\n",
        "test_data -= mean\n",
        "test_data /= std\n",
        "\n",
        "\n",
        "# Se realiza el modelo con la capa final con solo una unidad y sin función de activación, esto por que es un modelo de predicción\n",
        "# y se necesita que el resultado sea un escalar, si se coloca una función de activación no retornara un valor correcto\n",
        "\n",
        "def build_model():\n",
        " model = keras.Sequential([\n",
        " layers.Dense(64, activation=\"relu\"),\n",
        " layers.Dense(64, activation=\"relu\"),\n",
        " layers.Dense(1)\n",
        " ])\n",
        " model.compile(optimizer=\"rmsprop\", loss=\"mse\", metrics=[\"mae\"])\n",
        " return model"
      ],
      "metadata": {
        "id": "p7SbUYqPdD6z"
      },
      "execution_count": null,
      "outputs": []
    },
    {
      "cell_type": "code",
      "source": [
        "## Ya que hay pocos datos re realiza la validacion cruzada K-fold\n",
        "\n",
        "k = 4\n",
        "num_val_samples = len(train_data) // k\n",
        "num_epochs = 100\n",
        "all_scores = []\n",
        "for i in range(k):\n",
        " print(f\"Processing fold #{i}\")\n",
        " val_data = train_data[i * num_val_samples: (i + 1) * num_val_samples]\n",
        " val_targets = train_target[i * num_val_samples: (i + 1) * num_val_samples]\n",
        " partial_train_data = np.concatenate(\n",
        " [train_data[:i * num_val_samples],\n",
        " train_data[(i + 1) * num_val_samples:]],\n",
        " axis=0)\n",
        " partial_train_targets = np.concatenate(\n",
        "  [train_target[:i * num_val_samples],\n",
        "  train_target[(i + 1) * num_val_samples:]],\n",
        "  axis=0)\n",
        " model = build_model()\n",
        " model.fit(partial_train_data, partial_train_targets,\n",
        " epochs=num_epochs, batch_size=16, verbose=0)\n",
        " val_mse, val_mae = model.evaluate(val_data, val_targets, verbose=0)\n",
        " all_scores.append(val_mae)"
      ],
      "metadata": {
        "colab": {
          "base_uri": "https://localhost:8080/"
        },
        "id": "maadNyRbhgTQ",
        "outputId": "b0b7f848-bbf6-4aa1-f372-840ad21082af"
      },
      "execution_count": null,
      "outputs": [
        {
          "output_type": "stream",
          "name": "stdout",
          "text": [
            "Processing fold #0\n",
            "Processing fold #1\n",
            "Processing fold #2\n",
            "Processing fold #3\n"
          ]
        }
      ]
    },
    {
      "cell_type": "code",
      "source": [
        "num_epochs = 500\n",
        "all_mae_histories = []\n",
        "for i in range(k):\n",
        " print(f\"Processing fold #{i}\")\n",
        " val_data = train_data[i * num_val_samples: (i + 1) * num_val_samples]\n",
        " val_targets = train_target[i * num_val_samples: (i + 1) * num_val_samples]\n",
        " partial_train_data = np.concatenate(\n",
        " [train_data[:i * num_val_samples],\n",
        " train_data[(i + 1) * num_val_samples:]],\n",
        " axis=0)\n",
        " partial_train_targets = np.concatenate(\n",
        " [train_target[:i * num_val_samples],\n",
        " train_target[(i + 1) * num_val_samples:]],\n",
        " axis=0)\n",
        " model = build_model()\n",
        " history = model.fit(partial_train_data, partial_train_targets,\n",
        " validation_data=(val_data, val_targets),\n",
        " epochs=num_epochs, batch_size=16, verbose=0)\n",
        " mae_history = history.history[\"val_mae\"]\n",
        " all_mae_histories.append(mae_history)"
      ],
      "metadata": {
        "colab": {
          "base_uri": "https://localhost:8080/"
        },
        "id": "SS7j4l4skZ54",
        "outputId": "7daf6601-d0b7-4951-c500-c26b94a3c8ab"
      },
      "execution_count": null,
      "outputs": [
        {
          "output_type": "stream",
          "name": "stdout",
          "text": [
            "Processing fold #0\n",
            "Processing fold #1\n",
            "Processing fold #2\n",
            "Processing fold #3\n"
          ]
        }
      ]
    },
    {
      "cell_type": "code",
      "source": [
        "## Average per epoch\n",
        "\n",
        "\n",
        "average_mae_history = [\n",
        " np.mean([x[i] for x in all_mae_histories]) for i in range(num_epochs)]"
      ],
      "metadata": {
        "id": "qnOFXZOOqJRc"
      },
      "execution_count": null,
      "outputs": []
    },
    {
      "cell_type": "code",
      "source": [
        "#plot validation Scores\n",
        "import matplotlib.pyplot as plt\n",
        "plt.plot(range(1, len(average_mae_history) + 1), average_mae_history)\n",
        "plt.xlabel(\"Epochs\")\n",
        "plt.ylabel(\"Validation MAE\")\n",
        "plt.show()"
      ],
      "metadata": {
        "colab": {
          "base_uri": "https://localhost:8080/",
          "height": 454
        },
        "id": "_JcuCvuo86sB",
        "outputId": "7afb32a5-7278-4ccb-ac75-647408d4cd2c"
      },
      "execution_count": null,
      "outputs": [
        {
          "output_type": "display_data",
          "data": {
            "text/plain": [
              "<Figure size 640x480 with 1 Axes>"
            ],
            "image/png": "[encoded data removed]"
          },
          "metadata": {}
        }
      ]
    },
    {
      "cell_type": "markdown",
      "source": [
        "Reguladores de capas\n",
        "\n",
        " L1 regularization—The cost added is proportional to the absolute value of the\n",
        "weight coefficients (the L1 norm of the weights).\n",
        " L2 regularization—The cost added is proportional to the square of the value of the\n",
        "weight coefficients (the L2 norm of the weights).\n",
        "\n",
        "L2 regularization is also called\n",
        "weight decay in the context of neural networks. Don’t let the different name con\u0002fuse you: weight decay is mathematically the same as L2 regularization."
      ],
      "metadata": {
        "id": "as4pma13tw3M"
      }
    },
    {
      "cell_type": "code",
      "source": [
        "from tensorflow.keras import regularizers\n",
        "model = keras.Sequential([\n",
        " layers.Dense(16,\n",
        " kernel_regularizer=regularizers.l2(0.002),  ## Regula la cantidad de capas(cada peso se multiplica por 0.002*peso del coeficiente^2)\n",
        " activation=\"relu\"),\n",
        " layers.Dense(16,\n",
        " kernel_regularizer=regularizers.l2(0.002),## hay l o l1  regularizers.l1(0.002)\n",
        " activation=\"relu\"),\n",
        " layers.Dense(1, activation=\"sigmoid\")\n",
        "])\n",
        "\n",
        "model.compile(optimizer=\"rmsprop\",\n",
        " loss=\"binary_crossentropy\",\n",
        " metrics=[\"accuracy\"])\n",
        "history_l2_reg = model.fit(\n",
        " train_data, train_labels,\n",
        " epochs=20, batch_size=512, validation_split=0.4)"
      ],
      "metadata": {
        "id": "lvIxgItHt0Mk"
      },
      "execution_count": null,
      "outputs": []
    },
    {
      "cell_type": "markdown",
      "source": [
        "Dropout\n",
        "\n",
        "Eliminar aleatoriamente un archivo diferente\n",
        "Un subconjunto de neuronas en cada ejemplo evitaría conspiraciones y, por lo tanto, reduciría el ajuste excesivo”. La idea central es que introducir ruido en los valores de salida de una capa puede\n",
        "romper patrones fortuitos que no son significativos (lo que Hinton llama conspiraciones), que el modelo comenzará a memorizar si no hay ruido presente."
      ],
      "metadata": {
        "id": "eivEy6nzvP9v"
      }
    },
    {
      "cell_type": "code",
      "source": [
        "model = keras.Sequential([\n",
        " layers.Dense(16, activation=\"relu\"),\n",
        " layers.Dropout(0.5),                     ## drop 50%\n",
        " layers.Dense(16, activation=\"relu\"),\n",
        " layers.Dropout(0.5),\n",
        " layers.Dense(1, activation=\"sigmoid\")\n",
        "])\n",
        "model.compile(optimizer=\"rmsprop\",\n",
        " loss=\"binary_crossentropy\",\n",
        " metrics=[\"accuracy\"])\n",
        "history_dropout = model.fit(\n",
        " train_data, train_labels,\n",
        " epochs=20, batch_size=512, validation_split=0.4)"
      ],
      "metadata": {
        "id": "jSuwftYXw5Rh"
      },
      "execution_count": null,
      "outputs": []
    }
  ]
}